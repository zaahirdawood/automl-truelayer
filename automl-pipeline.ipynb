{
 "cells": [
  {
   "cell_type": "markdown",
   "metadata": {},
   "source": [
    "# Model Payment Failures at TrueLayer"
   ]
  },
  {
   "cell_type": "markdown",
   "metadata": {},
   "source": [
    "## 1. Setting up the environment, importing libraries and loading the data"
   ]
  },
  {
   "cell_type": "code",
   "execution_count": 5,
   "metadata": {},
   "outputs": [
    {
     "name": "stderr",
     "output_type": "stream",
     "text": [
      "INFO:root:Data loaded successfully.\n"
     ]
    }
   ],
   "source": [
    "import tpot\n",
    "from helper import get_env_variable\n",
    "\n",
    "\n",
    "import pandas as pd\n",
    "import logging\n",
    "from dotenv import load_dotenv\n",
    "import os\n",
    "\n",
    "# load the .env file in the directory\n",
    "load_dotenv()\n",
    "\n",
    "# import data path from .env file \n",
    "path = os.environ['DATA_PATH']\n",
    "\n",
    "# Configure logging\n",
    "logging.basicConfig(level=logging.INFO)\n",
    "\n",
    "try:\n",
    "    truelayer_data = pd.read_csv(path)\n",
    "    logging.info(\"Data loaded successfully.\")\n",
    "except FileNotFoundError:\n",
    "    logging.error(\"The specified CSV file was not found.\")\n",
    "except Exception as e:\n",
    "    logging.error(f\"An error occurred: {e}\")\n",
    "\n"
   ]
  },
  {
   "cell_type": "code",
   "execution_count": 6,
   "metadata": {},
   "outputs": [
    {
     "data": {
      "text/html": [
       "<div>\n",
       "<style scoped>\n",
       "    .dataframe tbody tr th:only-of-type {\n",
       "        vertical-align: middle;\n",
       "    }\n",
       "\n",
       "    .dataframe tbody tr th {\n",
       "        vertical-align: top;\n",
       "    }\n",
       "\n",
       "    .dataframe thead th {\n",
       "        text-align: right;\n",
       "    }\n",
       "</style>\n",
       "<table border=\"1\" class=\"dataframe\">\n",
       "  <thead>\n",
       "    <tr style=\"text-align: right;\">\n",
       "      <th></th>\n",
       "      <th>id</th>\n",
       "      <th>bank_id</th>\n",
       "      <th>currency</th>\n",
       "      <th>status</th>\n",
       "      <th>api_version</th>\n",
       "      <th>failure_reason</th>\n",
       "      <th>failure_stage</th>\n",
       "      <th>customer_id</th>\n",
       "      <th>vertical</th>\n",
       "      <th>connectivity_type</th>\n",
       "      <th>amount_in_currency</th>\n",
       "      <th>country_id</th>\n",
       "      <th>createdat_ts</th>\n",
       "      <th>lastupdatedat_ts</th>\n",
       "      <th>initiated_at</th>\n",
       "      <th>executed_at</th>\n",
       "      <th>failed_at</th>\n",
       "      <th>authorizing_at</th>\n",
       "      <th>authorized_at</th>\n",
       "      <th>settled_at</th>\n",
       "    </tr>\n",
       "  </thead>\n",
       "  <tbody>\n",
       "    <tr>\n",
       "      <th>0</th>\n",
       "      <td>3c6646ef17a52ac2e35fdb6a15aa44db6d85985b</td>\n",
       "      <td>b5ab8f51d35b64af079485e5bbbc335213f3a0ae</td>\n",
       "      <td>CAD</td>\n",
       "      <td>Executed</td>\n",
       "      <td>v3</td>\n",
       "      <td>NaN</td>\n",
       "      <td>NaN</td>\n",
       "      <td>365a3d703f257f52adde00af51c7f4897a6f9c6a</td>\n",
       "      <td>vertical 2</td>\n",
       "      <td>type 8</td>\n",
       "      <td>28.0</td>\n",
       "      <td>9e2b06736b477b7a924f60de14a7e329d82d6f4f</td>\n",
       "      <td>2010-02-10 06:00:06.452249</td>\n",
       "      <td>2010-02-10 06:00:14.766862</td>\n",
       "      <td>2010-02-10 06:00:06.452249</td>\n",
       "      <td>2010-02-10 06:00:14.766862</td>\n",
       "      <td>NaN</td>\n",
       "      <td>2010-02-10 06:00:06.452249</td>\n",
       "      <td>2010-02-10 06:00:06.452249</td>\n",
       "      <td>NaN</td>\n",
       "    </tr>\n",
       "    <tr>\n",
       "      <th>1</th>\n",
       "      <td>6c3e58befae5a4880c62c54bdffe7243ab7b66cc</td>\n",
       "      <td>34a0061ba48d1c2810cd930dd69d42482ca92d85</td>\n",
       "      <td>CAD</td>\n",
       "      <td>Executed</td>\n",
       "      <td>v3</td>\n",
       "      <td>NaN</td>\n",
       "      <td>NaN</td>\n",
       "      <td>365a3d703f257f52adde00af51c7f4897a6f9c6a</td>\n",
       "      <td>vertical 2</td>\n",
       "      <td>type 8</td>\n",
       "      <td>18.0</td>\n",
       "      <td>9e2b06736b477b7a924f60de14a7e329d82d6f4f</td>\n",
       "      <td>2010-01-12 06:00:17.890703</td>\n",
       "      <td>2010-01-12 06:00:22.517782</td>\n",
       "      <td>2010-01-12 06:00:17.890703</td>\n",
       "      <td>2010-01-12 06:00:22.517782</td>\n",
       "      <td>NaN</td>\n",
       "      <td>2010-01-12 06:00:17.890703</td>\n",
       "      <td>2010-01-12 06:00:17.890703</td>\n",
       "      <td>NaN</td>\n",
       "    </tr>\n",
       "    <tr>\n",
       "      <th>2</th>\n",
       "      <td>b2ee452081f287aa12f0efbd05c278edd332def9</td>\n",
       "      <td>660054a4565377c6e43ff7709abf56d8494ba604</td>\n",
       "      <td>CAD</td>\n",
       "      <td>Executed</td>\n",
       "      <td>v3</td>\n",
       "      <td>NaN</td>\n",
       "      <td>NaN</td>\n",
       "      <td>365a3d703f257f52adde00af51c7f4897a6f9c6a</td>\n",
       "      <td>vertical 2</td>\n",
       "      <td>type 8</td>\n",
       "      <td>28.5</td>\n",
       "      <td>9e2b06736b477b7a924f60de14a7e329d82d6f4f</td>\n",
       "      <td>2010-02-10 07:20:57.816799</td>\n",
       "      <td>2010-02-10 07:21:04.284348</td>\n",
       "      <td>2010-02-10 07:20:57.816799</td>\n",
       "      <td>2010-02-10 07:21:04.284348</td>\n",
       "      <td>NaN</td>\n",
       "      <td>2010-02-10 07:20:57.816799</td>\n",
       "      <td>2010-02-10 07:20:57.816799</td>\n",
       "      <td>NaN</td>\n",
       "    </tr>\n",
       "    <tr>\n",
       "      <th>3</th>\n",
       "      <td>5aa68c655e0ca1e57bcf4a70c269151811e3ee77</td>\n",
       "      <td>660054a4565377c6e43ff7709abf56d8494ba604</td>\n",
       "      <td>CAD</td>\n",
       "      <td>Executed</td>\n",
       "      <td>v3</td>\n",
       "      <td>NaN</td>\n",
       "      <td>NaN</td>\n",
       "      <td>365a3d703f257f52adde00af51c7f4897a6f9c6a</td>\n",
       "      <td>vertical 2</td>\n",
       "      <td>type 8</td>\n",
       "      <td>16.0</td>\n",
       "      <td>9e2b06736b477b7a924f60de14a7e329d82d6f4f</td>\n",
       "      <td>2010-02-10 06:00:20.172570</td>\n",
       "      <td>2010-02-10 06:00:25.549863</td>\n",
       "      <td>2010-02-10 06:00:20.172570</td>\n",
       "      <td>2010-02-10 06:00:25.549863</td>\n",
       "      <td>NaN</td>\n",
       "      <td>2010-02-10 06:00:20.172570</td>\n",
       "      <td>2010-02-10 06:00:20.172570</td>\n",
       "      <td>NaN</td>\n",
       "    </tr>\n",
       "    <tr>\n",
       "      <th>4</th>\n",
       "      <td>1d72b60adefab1066d7421d72a2c3abb3d558544</td>\n",
       "      <td>0090e57640ed78b0c16ac4606a6773769545bb17</td>\n",
       "      <td>CAD</td>\n",
       "      <td>Executed</td>\n",
       "      <td>v3</td>\n",
       "      <td>NaN</td>\n",
       "      <td>NaN</td>\n",
       "      <td>64c370a753b1db282770cdbf2aba5434a3185b3d</td>\n",
       "      <td>vertical 2</td>\n",
       "      <td>type 8</td>\n",
       "      <td>5.0</td>\n",
       "      <td>9e2b06736b477b7a924f60de14a7e329d82d6f4f</td>\n",
       "      <td>2009-08-14 13:42:02.939891</td>\n",
       "      <td>2009-08-14 13:42:54.515245</td>\n",
       "      <td>2009-08-14 13:42:09.978416</td>\n",
       "      <td>2009-08-14 13:42:54.515245</td>\n",
       "      <td>NaN</td>\n",
       "      <td>2009-08-14 13:42:03.699860</td>\n",
       "      <td>2009-08-14 13:42:52.858713</td>\n",
       "      <td>2009-08-14 13:42:54.515245</td>\n",
       "    </tr>\n",
       "  </tbody>\n",
       "</table>\n",
       "</div>"
      ],
      "text/plain": [
       "                                         id  \\\n",
       "0  3c6646ef17a52ac2e35fdb6a15aa44db6d85985b   \n",
       "1  6c3e58befae5a4880c62c54bdffe7243ab7b66cc   \n",
       "2  b2ee452081f287aa12f0efbd05c278edd332def9   \n",
       "3  5aa68c655e0ca1e57bcf4a70c269151811e3ee77   \n",
       "4  1d72b60adefab1066d7421d72a2c3abb3d558544   \n",
       "\n",
       "                                    bank_id currency    status api_version  \\\n",
       "0  b5ab8f51d35b64af079485e5bbbc335213f3a0ae      CAD  Executed          v3   \n",
       "1  34a0061ba48d1c2810cd930dd69d42482ca92d85      CAD  Executed          v3   \n",
       "2  660054a4565377c6e43ff7709abf56d8494ba604      CAD  Executed          v3   \n",
       "3  660054a4565377c6e43ff7709abf56d8494ba604      CAD  Executed          v3   \n",
       "4  0090e57640ed78b0c16ac4606a6773769545bb17      CAD  Executed          v3   \n",
       "\n",
       "  failure_reason failure_stage                               customer_id  \\\n",
       "0            NaN           NaN  365a3d703f257f52adde00af51c7f4897a6f9c6a   \n",
       "1            NaN           NaN  365a3d703f257f52adde00af51c7f4897a6f9c6a   \n",
       "2            NaN           NaN  365a3d703f257f52adde00af51c7f4897a6f9c6a   \n",
       "3            NaN           NaN  365a3d703f257f52adde00af51c7f4897a6f9c6a   \n",
       "4            NaN           NaN  64c370a753b1db282770cdbf2aba5434a3185b3d   \n",
       "\n",
       "     vertical connectivity_type  amount_in_currency  \\\n",
       "0  vertical 2            type 8                28.0   \n",
       "1  vertical 2            type 8                18.0   \n",
       "2  vertical 2            type 8                28.5   \n",
       "3  vertical 2            type 8                16.0   \n",
       "4  vertical 2            type 8                 5.0   \n",
       "\n",
       "                                 country_id                createdat_ts  \\\n",
       "0  9e2b06736b477b7a924f60de14a7e329d82d6f4f  2010-02-10 06:00:06.452249   \n",
       "1  9e2b06736b477b7a924f60de14a7e329d82d6f4f  2010-01-12 06:00:17.890703   \n",
       "2  9e2b06736b477b7a924f60de14a7e329d82d6f4f  2010-02-10 07:20:57.816799   \n",
       "3  9e2b06736b477b7a924f60de14a7e329d82d6f4f  2010-02-10 06:00:20.172570   \n",
       "4  9e2b06736b477b7a924f60de14a7e329d82d6f4f  2009-08-14 13:42:02.939891   \n",
       "\n",
       "             lastupdatedat_ts                initiated_at  \\\n",
       "0  2010-02-10 06:00:14.766862  2010-02-10 06:00:06.452249   \n",
       "1  2010-01-12 06:00:22.517782  2010-01-12 06:00:17.890703   \n",
       "2  2010-02-10 07:21:04.284348  2010-02-10 07:20:57.816799   \n",
       "3  2010-02-10 06:00:25.549863  2010-02-10 06:00:20.172570   \n",
       "4  2009-08-14 13:42:54.515245  2009-08-14 13:42:09.978416   \n",
       "\n",
       "                  executed_at failed_at              authorizing_at  \\\n",
       "0  2010-02-10 06:00:14.766862       NaN  2010-02-10 06:00:06.452249   \n",
       "1  2010-01-12 06:00:22.517782       NaN  2010-01-12 06:00:17.890703   \n",
       "2  2010-02-10 07:21:04.284348       NaN  2010-02-10 07:20:57.816799   \n",
       "3  2010-02-10 06:00:25.549863       NaN  2010-02-10 06:00:20.172570   \n",
       "4  2009-08-14 13:42:54.515245       NaN  2009-08-14 13:42:03.699860   \n",
       "\n",
       "                authorized_at                  settled_at  \n",
       "0  2010-02-10 06:00:06.452249                         NaN  \n",
       "1  2010-01-12 06:00:17.890703                         NaN  \n",
       "2  2010-02-10 07:20:57.816799                         NaN  \n",
       "3  2010-02-10 06:00:20.172570                         NaN  \n",
       "4  2009-08-14 13:42:52.858713  2009-08-14 13:42:54.515245  "
      ]
     },
     "execution_count": 6,
     "metadata": {},
     "output_type": "execute_result"
    }
   ],
   "source": [
    "truelayer_data.head()"
   ]
  },
  {
   "cell_type": "code",
   "execution_count": 7,
   "metadata": {},
   "outputs": [
    {
     "name": "stdout",
     "output_type": "stream",
     "text": [
      "<class 'pandas.core.frame.DataFrame'>\n",
      "RangeIndex: 500000 entries, 0 to 499999\n",
      "Data columns (total 20 columns):\n",
      " #   Column              Non-Null Count   Dtype  \n",
      "---  ------              --------------   -----  \n",
      " 0   id                  500000 non-null  object \n",
      " 1   bank_id             500000 non-null  object \n",
      " 2   currency            500000 non-null  object \n",
      " 3   status              500000 non-null  object \n",
      " 4   api_version         500000 non-null  object \n",
      " 5   failure_reason      44628 non-null   object \n",
      " 6   failure_stage       44628 non-null   object \n",
      " 7   customer_id         500000 non-null  object \n",
      " 8   vertical            499988 non-null  object \n",
      " 9   connectivity_type   483695 non-null  object \n",
      " 10  amount_in_currency  500000 non-null  float64\n",
      " 11  country_id          500000 non-null  object \n",
      " 12  createdat_ts        500000 non-null  object \n",
      " 13  lastupdatedat_ts    500000 non-null  object \n",
      " 14  initiated_at        237284 non-null  object \n",
      " 15  executed_at         377876 non-null  object \n",
      " 16  failed_at           44628 non-null   object \n",
      " 17  authorizing_at      239327 non-null  object \n",
      " 18  authorized_at       198205 non-null  object \n",
      " 19  settled_at          73360 non-null   object \n",
      "dtypes: float64(1), object(19)\n",
      "memory usage: 76.3+ MB\n"
     ]
    }
   ],
   "source": [
    "truelayer_data.info()"
   ]
  },
  {
   "cell_type": "code",
   "execution_count": 8,
   "metadata": {},
   "outputs": [
    {
     "name": "stdout",
     "output_type": "stream",
     "text": [
      "<class 'pandas.core.frame.DataFrame'>\n",
      "RangeIndex: 500000 entries, 0 to 499999\n",
      "Data columns (total 20 columns):\n",
      " #   Column              Non-Null Count   Dtype         \n",
      "---  ------              --------------   -----         \n",
      " 0   id                  500000 non-null  object        \n",
      " 1   bank_id             500000 non-null  object        \n",
      " 2   currency            500000 non-null  object        \n",
      " 3   status              500000 non-null  object        \n",
      " 4   api_version         500000 non-null  object        \n",
      " 5   failure_reason      44628 non-null   object        \n",
      " 6   failure_stage       44628 non-null   object        \n",
      " 7   customer_id         500000 non-null  object        \n",
      " 8   vertical            499988 non-null  object        \n",
      " 9   connectivity_type   483695 non-null  object        \n",
      " 10  amount_in_currency  500000 non-null  float64       \n",
      " 11  country_id          500000 non-null  object        \n",
      " 12  createdat_ts        500000 non-null  object        \n",
      " 13  lastupdatedat_ts    500000 non-null  object        \n",
      " 14  initiated_at        237284 non-null  datetime64[ns]\n",
      " 15  executed_at         377876 non-null  object        \n",
      " 16  failed_at           44628 non-null   datetime64[ns]\n",
      " 17  authorizing_at      239327 non-null  object        \n",
      " 18  authorized_at       198205 non-null  object        \n",
      " 19  settled_at          73360 non-null   object        \n",
      "dtypes: datetime64[ns](2), float64(1), object(17)\n",
      "memory usage: 76.3+ MB\n"
     ]
    }
   ],
   "source": [
    "def create_time_features(dataframe):\n",
    "    \"\"\"\n",
    "    Convert specified time columns in the dataframe to datetime format.\n",
    "    \"\"\"\n",
    "    # time_columns = [col for col in dataframe.columns if col.endswith(('_ts', '_at'))]\n",
    "    \n",
    "    for time_col in ['initiated_at', 'failed_at']:\n",
    "        if time_col in dataframe.columns:\n",
    "            dataframe[time_col] = pd.to_datetime(dataframe[time_col])\n",
    "    \n",
    "    dataframe.info()\n",
    "\n",
    "# Call the function with the truelayer_data\n",
    "create_time_features(truelayer_data)\n"
   ]
  },
  {
   "cell_type": "markdown",
   "metadata": {},
   "source": [
    "## 2. Exploratory Data Analysis"
   ]
  },
  {
   "cell_type": "code",
   "execution_count": 9,
   "metadata": {},
   "outputs": [
    {
     "data": {
      "text/plain": [
       "'8.93% failed transactions'"
      ]
     },
     "execution_count": 9,
     "metadata": {},
     "output_type": "execute_result"
    }
   ],
   "source": [
    "def calc_failed_transac_per():\n",
    "    count_failed= len(truelayer_data[truelayer_data['failed_at'].notna()]['id'].unique())\n",
    "    count_total_transaction= len(truelayer_data['id'].unique())\n",
    "    perc= (count_failed / count_total_transaction) * 100\n",
    "    return f\"{perc:.2f}% failed transactions\"\n",
    "\n",
    "calc_failed_transac_per()"
   ]
  },
  {
   "cell_type": "code",
   "execution_count": 10,
   "metadata": {},
   "outputs": [
    {
     "data": {
      "text/html": [
       "<div>\n",
       "<style scoped>\n",
       "    .dataframe tbody tr th:only-of-type {\n",
       "        vertical-align: middle;\n",
       "    }\n",
       "\n",
       "    .dataframe tbody tr th {\n",
       "        vertical-align: top;\n",
       "    }\n",
       "\n",
       "    .dataframe thead th {\n",
       "        text-align: right;\n",
       "    }\n",
       "</style>\n",
       "<table border=\"1\" class=\"dataframe\">\n",
       "  <thead>\n",
       "    <tr style=\"text-align: right;\">\n",
       "      <th></th>\n",
       "      <th>currency</th>\n",
       "      <th>amount_in_currency</th>\n",
       "    </tr>\n",
       "  </thead>\n",
       "  <tbody>\n",
       "    <tr>\n",
       "      <th>0</th>\n",
       "      <td>CAD</td>\n",
       "      <td>7646246.34</td>\n",
       "    </tr>\n",
       "    <tr>\n",
       "      <th>1</th>\n",
       "      <td>USD</td>\n",
       "      <td>1444682.24</td>\n",
       "    </tr>\n",
       "  </tbody>\n",
       "</table>\n",
       "</div>"
      ],
      "text/plain": [
       "  currency  amount_in_currency\n",
       "0      CAD          7646246.34\n",
       "1      USD          1444682.24"
      ]
     },
     "execution_count": 10,
     "metadata": {},
     "output_type": "execute_result"
    }
   ],
   "source": [
    "# select all rows where there are failed transactions\n",
    "failed_df = truelayer_data[truelayer_data['failed_at'].notna()]\n",
    "\n",
    "# sum the total amount of failed transactions\n",
    "failed_df.groupby('currency').agg({'amount_in_currency':'sum'}).reset_index()"
   ]
  },
  {
   "cell_type": "markdown",
   "metadata": {},
   "source": [
    "## 3. Feature Engineering"
   ]
  },
  {
   "cell_type": "markdown",
   "metadata": {},
   "source": [
    "## 4. Model Development (AutoML)\n"
   ]
  },
  {
   "cell_type": "markdown",
   "metadata": {},
   "source": [
    "## 5. Model Evaluation"
   ]
  },
  {
   "cell_type": "markdown",
   "metadata": {},
   "source": []
  }
 ],
 "metadata": {
  "kernelspec": {
   "display_name": ".venv",
   "language": "python",
   "name": "python3"
  },
  "language_info": {
   "codemirror_mode": {
    "name": "ipython",
    "version": 3
   },
   "file_extension": ".py",
   "mimetype": "text/x-python",
   "name": "python",
   "nbconvert_exporter": "python",
   "pygments_lexer": "ipython3",
   "version": "3.12.6"
  }
 },
 "nbformat": 4,
 "nbformat_minor": 2
}
