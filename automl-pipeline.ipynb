{
 "cells": [
  {
   "cell_type": "markdown",
   "metadata": {},
   "source": [
    "# Model Payment Failures at TrueLayer"
   ]
  },
  {
   "cell_type": "markdown",
   "metadata": {},
   "source": [
    "## 1. Setting up the environment, importing libraries and loading the data"
   ]
  },
  {
   "cell_type": "code",
   "execution_count": 1,
   "metadata": {},
   "outputs": [
    {
     "name": "stderr",
     "output_type": "stream",
     "text": [
      "INFO:root:Data loaded successfully.\n"
     ]
    }
   ],
   "source": [
    "import tpot\n",
    "from helper import get_env_variable\n",
    "\n",
    "\n",
    "import pandas as pd\n",
    "import logging\n",
    "from dotenv import load_dotenv\n",
    "import os\n",
    "import numpy as np\n",
    "\n",
    "# load the .env file in the directory\n",
    "load_dotenv()\n",
    "\n",
    "# import data path from .env file \n",
    "path = os.environ['DATA_PATH']\n",
    "\n",
    "# Configure logging\n",
    "logging.basicConfig(level=logging.INFO)\n",
    "\n",
    "try:\n",
    "    truelayer_data = pd.read_csv(path)\n",
    "    logging.info(\"Data loaded successfully.\")\n",
    "except FileNotFoundError:\n",
    "    logging.error(\"The specified CSV file was not found.\")\n",
    "except Exception as e:\n",
    "    logging.error(f\"An error occurred: {e}\")\n",
    "\n"
   ]
  },
  {
   "cell_type": "code",
   "execution_count": 2,
   "metadata": {},
   "outputs": [
    {
     "data": {
      "text/html": [
       "<div>\n",
       "<style scoped>\n",
       "    .dataframe tbody tr th:only-of-type {\n",
       "        vertical-align: middle;\n",
       "    }\n",
       "\n",
       "    .dataframe tbody tr th {\n",
       "        vertical-align: top;\n",
       "    }\n",
       "\n",
       "    .dataframe thead th {\n",
       "        text-align: right;\n",
       "    }\n",
       "</style>\n",
       "<table border=\"1\" class=\"dataframe\">\n",
       "  <thead>\n",
       "    <tr style=\"text-align: right;\">\n",
       "      <th></th>\n",
       "      <th>id</th>\n",
       "      <th>bank_id</th>\n",
       "      <th>currency</th>\n",
       "      <th>status</th>\n",
       "      <th>api_version</th>\n",
       "      <th>failure_reason</th>\n",
       "      <th>failure_stage</th>\n",
       "      <th>customer_id</th>\n",
       "      <th>vertical</th>\n",
       "      <th>connectivity_type</th>\n",
       "      <th>amount_in_currency</th>\n",
       "      <th>country_id</th>\n",
       "      <th>createdat_ts</th>\n",
       "      <th>lastupdatedat_ts</th>\n",
       "      <th>initiated_at</th>\n",
       "      <th>executed_at</th>\n",
       "      <th>failed_at</th>\n",
       "      <th>authorizing_at</th>\n",
       "      <th>authorized_at</th>\n",
       "      <th>settled_at</th>\n",
       "    </tr>\n",
       "  </thead>\n",
       "  <tbody>\n",
       "    <tr>\n",
       "      <th>0</th>\n",
       "      <td>3c6646ef17a52ac2e35fdb6a15aa44db6d85985b</td>\n",
       "      <td>b5ab8f51d35b64af079485e5bbbc335213f3a0ae</td>\n",
       "      <td>CAD</td>\n",
       "      <td>Executed</td>\n",
       "      <td>v3</td>\n",
       "      <td>NaN</td>\n",
       "      <td>NaN</td>\n",
       "      <td>365a3d703f257f52adde00af51c7f4897a6f9c6a</td>\n",
       "      <td>vertical 2</td>\n",
       "      <td>type 8</td>\n",
       "      <td>28.0</td>\n",
       "      <td>9e2b06736b477b7a924f60de14a7e329d82d6f4f</td>\n",
       "      <td>2010-02-10 06:00:06.452249</td>\n",
       "      <td>2010-02-10 06:00:14.766862</td>\n",
       "      <td>2010-02-10 06:00:06.452249</td>\n",
       "      <td>2010-02-10 06:00:14.766862</td>\n",
       "      <td>NaN</td>\n",
       "      <td>2010-02-10 06:00:06.452249</td>\n",
       "      <td>2010-02-10 06:00:06.452249</td>\n",
       "      <td>NaN</td>\n",
       "    </tr>\n",
       "    <tr>\n",
       "      <th>1</th>\n",
       "      <td>6c3e58befae5a4880c62c54bdffe7243ab7b66cc</td>\n",
       "      <td>34a0061ba48d1c2810cd930dd69d42482ca92d85</td>\n",
       "      <td>CAD</td>\n",
       "      <td>Executed</td>\n",
       "      <td>v3</td>\n",
       "      <td>NaN</td>\n",
       "      <td>NaN</td>\n",
       "      <td>365a3d703f257f52adde00af51c7f4897a6f9c6a</td>\n",
       "      <td>vertical 2</td>\n",
       "      <td>type 8</td>\n",
       "      <td>18.0</td>\n",
       "      <td>9e2b06736b477b7a924f60de14a7e329d82d6f4f</td>\n",
       "      <td>2010-01-12 06:00:17.890703</td>\n",
       "      <td>2010-01-12 06:00:22.517782</td>\n",
       "      <td>2010-01-12 06:00:17.890703</td>\n",
       "      <td>2010-01-12 06:00:22.517782</td>\n",
       "      <td>NaN</td>\n",
       "      <td>2010-01-12 06:00:17.890703</td>\n",
       "      <td>2010-01-12 06:00:17.890703</td>\n",
       "      <td>NaN</td>\n",
       "    </tr>\n",
       "    <tr>\n",
       "      <th>2</th>\n",
       "      <td>b2ee452081f287aa12f0efbd05c278edd332def9</td>\n",
       "      <td>660054a4565377c6e43ff7709abf56d8494ba604</td>\n",
       "      <td>CAD</td>\n",
       "      <td>Executed</td>\n",
       "      <td>v3</td>\n",
       "      <td>NaN</td>\n",
       "      <td>NaN</td>\n",
       "      <td>365a3d703f257f52adde00af51c7f4897a6f9c6a</td>\n",
       "      <td>vertical 2</td>\n",
       "      <td>type 8</td>\n",
       "      <td>28.5</td>\n",
       "      <td>9e2b06736b477b7a924f60de14a7e329d82d6f4f</td>\n",
       "      <td>2010-02-10 07:20:57.816799</td>\n",
       "      <td>2010-02-10 07:21:04.284348</td>\n",
       "      <td>2010-02-10 07:20:57.816799</td>\n",
       "      <td>2010-02-10 07:21:04.284348</td>\n",
       "      <td>NaN</td>\n",
       "      <td>2010-02-10 07:20:57.816799</td>\n",
       "      <td>2010-02-10 07:20:57.816799</td>\n",
       "      <td>NaN</td>\n",
       "    </tr>\n",
       "    <tr>\n",
       "      <th>3</th>\n",
       "      <td>5aa68c655e0ca1e57bcf4a70c269151811e3ee77</td>\n",
       "      <td>660054a4565377c6e43ff7709abf56d8494ba604</td>\n",
       "      <td>CAD</td>\n",
       "      <td>Executed</td>\n",
       "      <td>v3</td>\n",
       "      <td>NaN</td>\n",
       "      <td>NaN</td>\n",
       "      <td>365a3d703f257f52adde00af51c7f4897a6f9c6a</td>\n",
       "      <td>vertical 2</td>\n",
       "      <td>type 8</td>\n",
       "      <td>16.0</td>\n",
       "      <td>9e2b06736b477b7a924f60de14a7e329d82d6f4f</td>\n",
       "      <td>2010-02-10 06:00:20.172570</td>\n",
       "      <td>2010-02-10 06:00:25.549863</td>\n",
       "      <td>2010-02-10 06:00:20.172570</td>\n",
       "      <td>2010-02-10 06:00:25.549863</td>\n",
       "      <td>NaN</td>\n",
       "      <td>2010-02-10 06:00:20.172570</td>\n",
       "      <td>2010-02-10 06:00:20.172570</td>\n",
       "      <td>NaN</td>\n",
       "    </tr>\n",
       "    <tr>\n",
       "      <th>4</th>\n",
       "      <td>1d72b60adefab1066d7421d72a2c3abb3d558544</td>\n",
       "      <td>0090e57640ed78b0c16ac4606a6773769545bb17</td>\n",
       "      <td>CAD</td>\n",
       "      <td>Executed</td>\n",
       "      <td>v3</td>\n",
       "      <td>NaN</td>\n",
       "      <td>NaN</td>\n",
       "      <td>64c370a753b1db282770cdbf2aba5434a3185b3d</td>\n",
       "      <td>vertical 2</td>\n",
       "      <td>type 8</td>\n",
       "      <td>5.0</td>\n",
       "      <td>9e2b06736b477b7a924f60de14a7e329d82d6f4f</td>\n",
       "      <td>2009-08-14 13:42:02.939891</td>\n",
       "      <td>2009-08-14 13:42:54.515245</td>\n",
       "      <td>2009-08-14 13:42:09.978416</td>\n",
       "      <td>2009-08-14 13:42:54.515245</td>\n",
       "      <td>NaN</td>\n",
       "      <td>2009-08-14 13:42:03.699860</td>\n",
       "      <td>2009-08-14 13:42:52.858713</td>\n",
       "      <td>2009-08-14 13:42:54.515245</td>\n",
       "    </tr>\n",
       "  </tbody>\n",
       "</table>\n",
       "</div>"
      ],
      "text/plain": [
       "                                         id  \\\n",
       "0  3c6646ef17a52ac2e35fdb6a15aa44db6d85985b   \n",
       "1  6c3e58befae5a4880c62c54bdffe7243ab7b66cc   \n",
       "2  b2ee452081f287aa12f0efbd05c278edd332def9   \n",
       "3  5aa68c655e0ca1e57bcf4a70c269151811e3ee77   \n",
       "4  1d72b60adefab1066d7421d72a2c3abb3d558544   \n",
       "\n",
       "                                    bank_id currency    status api_version  \\\n",
       "0  b5ab8f51d35b64af079485e5bbbc335213f3a0ae      CAD  Executed          v3   \n",
       "1  34a0061ba48d1c2810cd930dd69d42482ca92d85      CAD  Executed          v3   \n",
       "2  660054a4565377c6e43ff7709abf56d8494ba604      CAD  Executed          v3   \n",
       "3  660054a4565377c6e43ff7709abf56d8494ba604      CAD  Executed          v3   \n",
       "4  0090e57640ed78b0c16ac4606a6773769545bb17      CAD  Executed          v3   \n",
       "\n",
       "  failure_reason failure_stage                               customer_id  \\\n",
       "0            NaN           NaN  365a3d703f257f52adde00af51c7f4897a6f9c6a   \n",
       "1            NaN           NaN  365a3d703f257f52adde00af51c7f4897a6f9c6a   \n",
       "2            NaN           NaN  365a3d703f257f52adde00af51c7f4897a6f9c6a   \n",
       "3            NaN           NaN  365a3d703f257f52adde00af51c7f4897a6f9c6a   \n",
       "4            NaN           NaN  64c370a753b1db282770cdbf2aba5434a3185b3d   \n",
       "\n",
       "     vertical connectivity_type  amount_in_currency  \\\n",
       "0  vertical 2            type 8                28.0   \n",
       "1  vertical 2            type 8                18.0   \n",
       "2  vertical 2            type 8                28.5   \n",
       "3  vertical 2            type 8                16.0   \n",
       "4  vertical 2            type 8                 5.0   \n",
       "\n",
       "                                 country_id                createdat_ts  \\\n",
       "0  9e2b06736b477b7a924f60de14a7e329d82d6f4f  2010-02-10 06:00:06.452249   \n",
       "1  9e2b06736b477b7a924f60de14a7e329d82d6f4f  2010-01-12 06:00:17.890703   \n",
       "2  9e2b06736b477b7a924f60de14a7e329d82d6f4f  2010-02-10 07:20:57.816799   \n",
       "3  9e2b06736b477b7a924f60de14a7e329d82d6f4f  2010-02-10 06:00:20.172570   \n",
       "4  9e2b06736b477b7a924f60de14a7e329d82d6f4f  2009-08-14 13:42:02.939891   \n",
       "\n",
       "             lastupdatedat_ts                initiated_at  \\\n",
       "0  2010-02-10 06:00:14.766862  2010-02-10 06:00:06.452249   \n",
       "1  2010-01-12 06:00:22.517782  2010-01-12 06:00:17.890703   \n",
       "2  2010-02-10 07:21:04.284348  2010-02-10 07:20:57.816799   \n",
       "3  2010-02-10 06:00:25.549863  2010-02-10 06:00:20.172570   \n",
       "4  2009-08-14 13:42:54.515245  2009-08-14 13:42:09.978416   \n",
       "\n",
       "                  executed_at failed_at              authorizing_at  \\\n",
       "0  2010-02-10 06:00:14.766862       NaN  2010-02-10 06:00:06.452249   \n",
       "1  2010-01-12 06:00:22.517782       NaN  2010-01-12 06:00:17.890703   \n",
       "2  2010-02-10 07:21:04.284348       NaN  2010-02-10 07:20:57.816799   \n",
       "3  2010-02-10 06:00:25.549863       NaN  2010-02-10 06:00:20.172570   \n",
       "4  2009-08-14 13:42:54.515245       NaN  2009-08-14 13:42:03.699860   \n",
       "\n",
       "                authorized_at                  settled_at  \n",
       "0  2010-02-10 06:00:06.452249                         NaN  \n",
       "1  2010-01-12 06:00:17.890703                         NaN  \n",
       "2  2010-02-10 07:20:57.816799                         NaN  \n",
       "3  2010-02-10 06:00:20.172570                         NaN  \n",
       "4  2009-08-14 13:42:52.858713  2009-08-14 13:42:54.515245  "
      ]
     },
     "execution_count": 2,
     "metadata": {},
     "output_type": "execute_result"
    }
   ],
   "source": [
    "truelayer_data.head()"
   ]
  },
  {
   "cell_type": "code",
   "execution_count": 3,
   "metadata": {},
   "outputs": [
    {
     "name": "stdout",
     "output_type": "stream",
     "text": [
      "<class 'pandas.core.frame.DataFrame'>\n",
      "RangeIndex: 500000 entries, 0 to 499999\n",
      "Data columns (total 20 columns):\n",
      " #   Column              Non-Null Count   Dtype  \n",
      "---  ------              --------------   -----  \n",
      " 0   id                  500000 non-null  object \n",
      " 1   bank_id             500000 non-null  object \n",
      " 2   currency            500000 non-null  object \n",
      " 3   status              500000 non-null  object \n",
      " 4   api_version         500000 non-null  object \n",
      " 5   failure_reason      44628 non-null   object \n",
      " 6   failure_stage       44628 non-null   object \n",
      " 7   customer_id         500000 non-null  object \n",
      " 8   vertical            499988 non-null  object \n",
      " 9   connectivity_type   483695 non-null  object \n",
      " 10  amount_in_currency  500000 non-null  float64\n",
      " 11  country_id          500000 non-null  object \n",
      " 12  createdat_ts        500000 non-null  object \n",
      " 13  lastupdatedat_ts    500000 non-null  object \n",
      " 14  initiated_at        237284 non-null  object \n",
      " 15  executed_at         377876 non-null  object \n",
      " 16  failed_at           44628 non-null   object \n",
      " 17  authorizing_at      239327 non-null  object \n",
      " 18  authorized_at       198205 non-null  object \n",
      " 19  settled_at          73360 non-null   object \n",
      "dtypes: float64(1), object(19)\n",
      "memory usage: 76.3+ MB\n"
     ]
    }
   ],
   "source": [
    "truelayer_data.info()"
   ]
  },
  {
   "cell_type": "code",
   "execution_count": 4,
   "metadata": {},
   "outputs": [],
   "source": [
    "def create_time_features(dataframe):\n",
    "    \"\"\"\n",
    "    Convert specified time columns in the dataframe to datetime format.\n",
    "    \"\"\"\n",
    "    # time_columns = [col for col in dataframe.columns if col.endswith(('_ts', '_at'))]\n",
    "    \n",
    "    for time_col in ['initiated_at', 'failed_at']:\n",
    "        if time_col in dataframe.columns:\n",
    "            dataframe[time_col] = pd.to_datetime(dataframe[time_col])\n",
    "\n",
    "\n",
    "# Call the function with the truelayer_data\n",
    "create_time_features(truelayer_data)\n"
   ]
  },
  {
   "cell_type": "markdown",
   "metadata": {},
   "source": [
    "## 2. Exploratory Data Analysis"
   ]
  },
  {
   "cell_type": "code",
   "execution_count": 5,
   "metadata": {},
   "outputs": [
    {
     "data": {
      "text/plain": [
       "'14.67% failed transactions'"
      ]
     },
     "execution_count": 5,
     "metadata": {},
     "output_type": "execute_result"
    }
   ],
   "source": [
    "def calc_failed_transac_per():\n",
    "    count_failed= len(truelayer_data[truelayer_data['settled_at'].notna()]['id'].unique())\n",
    "    count_total_transaction= len(truelayer_data['id'].unique())\n",
    "    perc= (count_failed / count_total_transaction) * 100\n",
    "    return f\"{perc:.2f}% failed transactions\"\n",
    "\n",
    "calc_failed_transac_per()"
   ]
  },
  {
   "cell_type": "code",
   "execution_count": 6,
   "metadata": {},
   "outputs": [
    {
     "data": {
      "text/html": [
       "<div>\n",
       "<style scoped>\n",
       "    .dataframe tbody tr th:only-of-type {\n",
       "        vertical-align: middle;\n",
       "    }\n",
       "\n",
       "    .dataframe tbody tr th {\n",
       "        vertical-align: top;\n",
       "    }\n",
       "\n",
       "    .dataframe thead th {\n",
       "        text-align: right;\n",
       "    }\n",
       "</style>\n",
       "<table border=\"1\" class=\"dataframe\">\n",
       "  <thead>\n",
       "    <tr style=\"text-align: right;\">\n",
       "      <th></th>\n",
       "      <th>currency</th>\n",
       "      <th>amount_in_currency</th>\n",
       "    </tr>\n",
       "  </thead>\n",
       "  <tbody>\n",
       "    <tr>\n",
       "      <th>0</th>\n",
       "      <td>CAD</td>\n",
       "      <td>949641.2</td>\n",
       "    </tr>\n",
       "    <tr>\n",
       "      <th>1</th>\n",
       "      <td>USD</td>\n",
       "      <td>44214.5</td>\n",
       "    </tr>\n",
       "  </tbody>\n",
       "</table>\n",
       "</div>"
      ],
      "text/plain": [
       "  currency  amount_in_currency\n",
       "0      CAD            949641.2\n",
       "1      USD             44214.5"
      ]
     },
     "execution_count": 6,
     "metadata": {},
     "output_type": "execute_result"
    }
   ],
   "source": [
    "# select all rows where there are failed transactions\n",
    "failed_df = truelayer_data[truelayer_data['settled_at'].notna()]\n",
    "\n",
    "# sum the total amount of failed transactions\n",
    "failed_df.groupby('currency').agg({'amount_in_currency':'sum'}).reset_index()"
   ]
  },
  {
   "cell_type": "markdown",
   "metadata": {},
   "source": [
    "## 3. Feature Engineering"
   ]
  },
  {
   "cell_type": "code",
   "execution_count": 7,
   "metadata": {},
   "outputs": [],
   "source": [
    "truelayer_data['time_diff'] = (truelayer_data['failed_at'] - truelayer_data['initiated_at']).dt.total_seconds() "
   ]
  },
  {
   "cell_type": "code",
   "execution_count": 8,
   "metadata": {},
   "outputs": [],
   "source": [
    "# fill nan values in connectivity_type with 'type 0'\n",
    "truelayer_data['connectivity_type'] = truelayer_data['connectivity_type'].fillna('type 0')\n",
    "\n",
    "\n",
    "truelayer_data['amount_in_currency'] = truelayer_data['amount_in_currency'] "
   ]
  },
  {
   "cell_type": "code",
   "execution_count": 9,
   "metadata": {},
   "outputs": [],
   "source": [
    "# apply lambda function to create target variable\n",
    "truelayer_data['s_pay_yes_no'] = truelayer_data['settled_at'].apply(lambda x: 0 if pd.notna(x) else 1)"
   ]
  },
  {
   "cell_type": "code",
   "execution_count": 10,
   "metadata": {},
   "outputs": [],
   "source": [
    "# apply lambda function to create target variable\n",
    "# truelayer_data['s_pay_yes_no'] = truelayer_data['failed_at'].apply(lambda x: 0 if pd.notna(x) else 1)\n",
    "\n",
    "# initialise feature set X\n",
    "X= truelayer_data.loc[:,['country_id', 'connectivity_type', 'api_version','amount_in_currency','time_diff']].copy()\n",
    "\n",
    "# intialise feature set y\n",
    "y= truelayer_data['s_pay_yes_no'].values\n"
   ]
  },
  {
   "cell_type": "code",
   "execution_count": 11,
   "metadata": {},
   "outputs": [],
   "source": [
    "from sklearn.preprocessing import LabelEncoder\n",
    "\n",
    "# Initialize LabelEncoder\n",
    "label_encoders = {}\n",
    "\n",
    "# Label encode each categorical feature in X\n",
    "for column in X.select_dtypes(include=['object']).columns:\n",
    "    le = LabelEncoder()\n",
    "    X[column] = le.fit_transform(X[column])\n",
    "    label_encoders[column] = le  # Store the encoder for potential inverse transformation later\n"
   ]
  },
  {
   "cell_type": "code",
   "execution_count": 12,
   "metadata": {},
   "outputs": [
    {
     "name": "stderr",
     "output_type": "stream",
     "text": [
      "/var/folders/bc/ch17snhx0lddzb35lcgwsn5r0000gn/T/ipykernel_22571/4208561580.py:1: FutureWarning: A value is trying to be set on a copy of a DataFrame or Series through chained assignment using an inplace method.\n",
      "The behavior will change in pandas 3.0. This inplace method will never work because the intermediate object on which we are setting values always behaves as a copy.\n",
      "\n",
      "For example, when doing 'df[col].method(value, inplace=True)', try using 'df.method({col: value}, inplace=True)' or df[col] = df[col].method(value) instead, to perform the operation inplace on the original object.\n",
      "\n",
      "\n",
      "  X['time_diff'].fillna(0, inplace=True)\n"
     ]
    }
   ],
   "source": [
    "X['time_diff'].fillna(0, inplace=True)\n"
   ]
  },
  {
   "cell_type": "code",
   "execution_count": 13,
   "metadata": {},
   "outputs": [],
   "source": [
    "from sklearn.utils import resample\n",
    "\n",
    "# Combine the features and target variable into a single DataFrame\n",
    "data = X.copy()\n",
    "data['s_pay_yes_no'] = y\n",
    "\n",
    "# Separate majority and minority classes\n",
    "majority = data[data['s_pay_yes_no'] == 0]\n",
    "minority = data[data['s_pay_yes_no'] == 1]\n",
    "\n",
    "# Ensure that we only undersample if the majority class is larger than the minority class\n",
    "if len(majority) > len(minority):\n",
    "    # Randomly undersample the majority class\n",
    "    majority_undersampled = resample(majority, \n",
    "                                       replace=False,    # sample without replacement\n",
    "                                       n_samples= 1.2 * len(minority),  # to match minority class\n",
    "                                       random_state=42)  # reproducible results\n",
    "\n",
    "    # Combine minority class with undersampled majority class\n",
    "    undersampled_data = pd.concat([majority_undersampled, minority])\n",
    "else:\n",
    "    # If the majority class is not larger, use the original data without undersampling\n",
    "    undersampled_data = data\n",
    "\n",
    "# Separate features and target variable again\n",
    "X_undersampled = undersampled_data.drop('s_pay_yes_no', axis=1)\n",
    "y_undersampled = undersampled_data['s_pay_yes_no'].values\n",
    "\n",
    "# Ensure that the data is shuffled after undersampling\n",
    "X_undersampled, y_undersampled = resample(X_undersampled, y_undersampled, random_state=42)\n"
   ]
  },
  {
   "cell_type": "code",
   "execution_count": 14,
   "metadata": {},
   "outputs": [],
   "source": [
    "from sklearn.model_selection import train_test_split\n",
    "\n",
    "# Split the data into training and testing sets\n",
    "X_train, X_test, y_train, y_test = train_test_split(X_undersampled, \n",
    "                                                    y_undersampled, \n",
    "                                                    test_size=0.2, \n",
    "                                                    random_state=42, \n",
    "                                                    stratify=y, shuffle=True)\n"
   ]
  },
  {
   "cell_type": "markdown",
   "metadata": {},
   "source": [
    "## 4. Model Development (AutoML)\n"
   ]
  },
  {
   "cell_type": "code",
   "execution_count": 15,
   "metadata": {},
   "outputs": [
    {
     "name": "stdout",
     "output_type": "stream",
     "text": [
      "32 operators have been imported by TPOT.\n",
      "Skipped pipeline #41 due to time out. Continuing to the next pipeline.        \n",
      "                                                                             \n",
      "11.68 minutes have elapsed. TPOT will close down.                            \n",
      "TPOT closed during evaluation in one generation.\n",
      "WARNING: TPOT may not provide a good pipeline if TPOT is stopped/interrupted in a early generation.\n",
      "                                                                             \n",
      "                                                                             \n",
      "TPOT closed prematurely. Will use the current best pipeline.\n",
      "                                                                             \r"
     ]
    },
    {
     "name": "stderr",
     "output_type": "stream",
     "text": [
      "/Users/zaahirdawood/Documents/automl-truelayer/.venv/lib/python3.12/site-packages/sklearn/base.py:493: UserWarning: X does not have valid feature names, but LinearSVC was fitted with feature names\n",
      "  warnings.warn(\n"
     ]
    },
    {
     "data": {
      "text/plain": [
       "np.float64(0.8678459491776711)"
      ]
     },
     "execution_count": 15,
     "metadata": {},
     "output_type": "execute_result"
    }
   ],
   "source": [
    "from tpot import TPOTClassifier\n",
    "\n",
    "tpot = TPOTClassifier(scoring='f1_weighted',\n",
    "                      verbosity=3,\n",
    "                      n_jobs=-1,\n",
    "                      generations=10, \n",
    "                      population_size=100,\n",
    "                      cv=3,\n",
    "                      max_time_mins=10)\n",
    "\n",
    "tpot.fit(X_train, y_train)\n",
    "tpot.score(X_test, y_test)"
   ]
  },
  {
   "cell_type": "markdown",
   "metadata": {},
   "source": [
    "## 5. Model Evaluation"
   ]
  },
  {
   "cell_type": "code",
   "execution_count": 16,
   "metadata": {},
   "outputs": [
    {
     "name": "stdout",
     "output_type": "stream",
     "text": [
      "Pipeline(steps=[('stackingestimator',\n",
      "                 StackingEstimator(estimator=LinearSVC(C=25.0, dual=True,\n",
      "                                                       loss='hinge',\n",
      "                                                       tol=0.1))),\n",
      "                ('randomforestclassifier',\n",
      "                 RandomForestClassifier(bootstrap=False, criterion='entropy',\n",
      "                                        max_features=0.5, min_samples_leaf=2,\n",
      "                                        min_samples_split=10))])\n"
     ]
    }
   ],
   "source": [
    "print(tpot.fitted_pipeline_) \n"
   ]
  },
  {
   "cell_type": "code",
   "execution_count": 17,
   "metadata": {},
   "outputs": [
    {
     "name": "stderr",
     "output_type": "stream",
     "text": [
      "/Users/zaahirdawood/Documents/automl-truelayer/.venv/lib/python3.12/site-packages/sklearn/base.py:493: UserWarning: X does not have valid feature names, but LinearSVC was fitted with feature names\n",
      "  warnings.warn(\n"
     ]
    },
    {
     "name": "stdout",
     "output_type": "stream",
     "text": [
      "              precision    recall  f1-score   support\n",
      "\n",
      "           0       0.57      0.49      0.53     14682\n",
      "           1       0.91      0.94      0.93     85318\n",
      "\n",
      "    accuracy                           0.87    100000\n",
      "   macro avg       0.74      0.72      0.73    100000\n",
      "weighted avg       0.86      0.87      0.87    100000\n",
      "\n"
     ]
    },
    {
     "name": "stderr",
     "output_type": "stream",
     "text": [
      "/Users/zaahirdawood/Documents/automl-truelayer/.venv/lib/python3.12/site-packages/sklearn/base.py:493: UserWarning: X does not have valid feature names, but LinearSVC was fitted with feature names\n",
      "  warnings.warn(\n"
     ]
    },
    {
     "name": "stdout",
     "output_type": "stream",
     "text": [
      "AUC ROC Score: 0.9143\n"
     ]
    }
   ],
   "source": [
    "from sklearn.metrics import classification_report, roc_auc_score\n",
    "\n",
    "# Make predictions on the test set\n",
    "y_pred = tpot.predict(X_test)\n",
    "\n",
    "# Generate the classification report\n",
    "print(classification_report(y_test, y_pred))\n",
    "\n",
    "# Calculate the AUC ROC score\n",
    "y_prob = tpot.predict_proba(X_test)[:, 1]  # Get the probabilities for the positive class\n",
    "auc_score = roc_auc_score(y_test, y_prob)\n",
    "print(f'AUC ROC Score: {auc_score:.4f}')\n"
   ]
  },
  {
   "cell_type": "code",
   "execution_count": 18,
   "metadata": {},
   "outputs": [
    {
     "data": {
      "image/png": "[encoded data removed]",
      "text/plain": [
       "<Figure size 800x600 with 1 Axes>"
      ]
     },
     "metadata": {},
     "output_type": "display_data"
    }
   ],
   "source": [
    "import matplotlib.pyplot as plt \n",
    "from sklearn.metrics import roc_curve\n",
    "\n",
    "# Calculate the ROC curve\n",
    "fpr, tpr, thresholds = roc_curve(y_test, y_prob)\n",
    "\n",
    "# Plot the ROC curve\n",
    "plt.figure(figsize=(8, 6))\n",
    "plt.plot(fpr, tpr, color='blue', label='ROC Curve (area = {:.2f})'.format(auc_score))\n",
    "plt.plot([0, 1], [0, 1], color='red', linestyle='--')  # Diagonal line\n",
    "plt.xlim([0.0, 1.0])\n",
    "plt.ylim([0.0, 1.05])\n",
    "plt.xlabel('False Positive Rate')\n",
    "plt.ylabel('True Positive Rate')\n",
    "plt.title('Receiver Operating Characteristic (ROC) Curve')\n",
    "plt.legend(loc='lower right')\n",
    "plt.show()\n"
   ]
  },
  {
   "cell_type": "code",
   "execution_count": 19,
   "metadata": {},
   "outputs": [
    {
     "name": "stdout",
     "output_type": "stream",
     "text": [
      "[[ 7256  5387]\n",
      " [ 7426 79931]]\n"
     ]
    }
   ],
   "source": [
    "from sklearn.metrics import confusion_matrix\n",
    "\n",
    "cm= confusion_matrix(y_pred,y_test)\n",
    "\n",
    "print(cm)"
   ]
  },
  {
   "cell_type": "markdown",
   "metadata": {},
   "source": [
    "## 6. Model Selection"
   ]
  },
  {
   "cell_type": "code",
   "execution_count": 20,
   "metadata": {},
   "outputs": [],
   "source": [
    "from sklearn.pipeline import Pipeline, FeatureUnion\n",
    "from sklearn.ensemble import ExtraTreesClassifier\n",
    "from sklearn.preprocessing import StandardScaler\n",
    "from sklearn.preprocessing import FunctionTransformer\n",
    "\n",
    "def custom_transformation(X):\n",
    "    # Replace this with your transformation logic\n",
    "    return X\n",
    "\n",
    "# Create transformers\n",
    "scaler = StandardScaler()\n",
    "custom_transformer = FunctionTransformer(func=custom_transformation)\n",
    "\n",
    "# Construct the pipeline\n",
    "pipeline = Pipeline(steps=[\n",
    "    ('featureunion', FeatureUnion(transformer_list=[\n",
    "        ('scaler', scaler),\n",
    "        ('custom_transformer', custom_transformer)\n",
    "    ])),\n",
    "    ('extratreesclassifier', ExtraTreesClassifier(class_weight='balanced',criterion='entropy', max_features=0.1, min_samples_split=12)) #add balanced class\n",
    "])\n",
    "\n",
    "# Fit the pipeline on training data (X_train, y_train)\n",
    "pipeline.fit(X_undersampled, y_undersampled)\n",
    "\n",
    "# Make predictions\n",
    "y_pred = pipeline.predict(X_test)"
   ]
  },
  {
   "cell_type": "code",
   "execution_count": 21,
   "metadata": {},
   "outputs": [
    {
     "name": "stdout",
     "output_type": "stream",
     "text": [
      "[[14545 21141]\n",
      " [  137 64177]]\n"
     ]
    }
   ],
   "source": [
    "from sklearn.metrics import confusion_matrix\n",
    "\n",
    "cm= confusion_matrix(y_pred,y_test)\n",
    "\n",
    "print(cm)"
   ]
  },
  {
   "cell_type": "code",
   "execution_count": 22,
   "metadata": {},
   "outputs": [
    {
     "name": "stdout",
     "output_type": "stream",
     "text": [
      "              precision    recall  f1-score   support\n",
      "\n",
      "           0       0.41      0.99      0.58     14682\n",
      "           1       1.00      0.75      0.86     85318\n",
      "\n",
      "    accuracy                           0.79    100000\n",
      "   macro avg       0.70      0.87      0.72    100000\n",
      "weighted avg       0.91      0.79      0.82    100000\n",
      "\n",
      "AUC ROC Score: 0.9199\n"
     ]
    }
   ],
   "source": [
    "from sklearn.metrics import classification_report, roc_auc_score\n",
    "\n",
    "# Make predictions on the test set\n",
    "y_pred = pipeline.predict(X_test)\n",
    "\n",
    "# Generate the classification report\n",
    "print(classification_report(y_test, y_pred))\n",
    "\n",
    "# Calculate the AUC ROC score\n",
    "y_prob = pipeline.predict_proba(X_test)[:, 1]  # Get the probabilities for the positive class\n",
    "auc_score = roc_auc_score(y_test, y_prob)\n",
    "print(f'AUC ROC Score: {auc_score:.4f}')\n"
   ]
  },
  {
   "cell_type": "code",
   "execution_count": 23,
   "metadata": {},
   "outputs": [
    {
     "data": {
      "image/png": "[encoded data removed]",
      "text/plain": [
       "<Figure size 800x600 with 1 Axes>"
      ]
     },
     "metadata": {},
     "output_type": "display_data"
    }
   ],
   "source": [
    "import matplotlib.pyplot as plt \n",
    "from sklearn.metrics import roc_curve\n",
    "\n",
    "# Calculate the ROC curve\n",
    "fpr, tpr, thresholds = roc_curve(y_test, y_prob)\n",
    "\n",
    "# Plot the ROC curve\n",
    "plt.figure(figsize=(8, 6))\n",
    "plt.plot(fpr, tpr, color='blue', label='ROC Curve (area = {:.2f})'.format(auc_score))\n",
    "plt.plot([0, 1], [0, 1], color='red', linestyle='--')  # Diagonal line\n",
    "plt.xlim([0.0, 1.0])\n",
    "plt.ylim([0.0, 1.05])\n",
    "plt.xlabel('False Positive Rate')\n",
    "plt.ylabel('True Positive Rate')\n",
    "plt.title('Receiver Operating Characteristic (ROC) Curve')\n",
    "plt.legend(loc='lower right')\n",
    "plt.show()\n"
   ]
  },
  {
   "cell_type": "markdown",
   "metadata": {},
   "source": [
    "## 7. Save model & pipeline"
   ]
  },
  {
   "cell_type": "code",
   "execution_count": 32,
   "metadata": {},
   "outputs": [
    {
     "data": {
      "text/plain": [
       "['models/winner.pkl']"
      ]
     },
     "execution_count": 32,
     "metadata": {},
     "output_type": "execute_result"
    }
   ],
   "source": [
    "import joblib\n",
    "\n",
    "tpot.export('models/tpot_pipeline.py')\n",
    "# Assuming 'pipeline' is your trained pipeline object\n",
    "joblib.dump(pipeline, 'models/winner.pkl')"
   ]
  },
  {
   "cell_type": "code",
   "execution_count": 25,
   "metadata": {},
   "outputs": [],
   "source": [
    "prob_val = pipeline.predict_proba(X_test)[:, 0]\n",
    "final_df = pd.DataFrame({'Probability_Failed': prob_val, 'Actual_Result': y_test})\n",
    "\n",
    "final_df.to_csv('review.csv',index=False)"
   ]
  },
  {
   "cell_type": "code",
   "execution_count": 26,
   "metadata": {},
   "outputs": [
    {
     "data": {
      "text/html": [
       "<div>\n",
       "<style scoped>\n",
       "    .dataframe tbody tr th:only-of-type {\n",
       "        vertical-align: middle;\n",
       "    }\n",
       "\n",
       "    .dataframe tbody tr th {\n",
       "        vertical-align: top;\n",
       "    }\n",
       "\n",
       "    .dataframe thead th {\n",
       "        text-align: right;\n",
       "    }\n",
       "</style>\n",
       "<table border=\"1\" class=\"dataframe\">\n",
       "  <thead>\n",
       "    <tr style=\"text-align: right;\">\n",
       "      <th></th>\n",
       "      <th>count</th>\n",
       "      <th>mean</th>\n",
       "      <th>std</th>\n",
       "      <th>min</th>\n",
       "      <th>25%</th>\n",
       "      <th>50%</th>\n",
       "      <th>75%</th>\n",
       "      <th>max</th>\n",
       "    </tr>\n",
       "    <tr>\n",
       "      <th>Actual_Result</th>\n",
       "      <th></th>\n",
       "      <th></th>\n",
       "      <th></th>\n",
       "      <th></th>\n",
       "      <th></th>\n",
       "      <th></th>\n",
       "      <th></th>\n",
       "      <th></th>\n",
       "    </tr>\n",
       "  </thead>\n",
       "  <tbody>\n",
       "    <tr>\n",
       "      <th>0</th>\n",
       "      <td>14682.0</td>\n",
       "      <td>0.807287</td>\n",
       "      <td>0.110820</td>\n",
       "      <td>0.074415</td>\n",
       "      <td>0.740592</td>\n",
       "      <td>0.863236</td>\n",
       "      <td>0.873152</td>\n",
       "      <td>1.000000</td>\n",
       "    </tr>\n",
       "    <tr>\n",
       "      <th>1</th>\n",
       "      <td>85318.0</td>\n",
       "      <td>0.191357</td>\n",
       "      <td>0.324084</td>\n",
       "      <td>0.000000</td>\n",
       "      <td>0.000000</td>\n",
       "      <td>0.000000</td>\n",
       "      <td>0.474797</td>\n",
       "      <td>0.984837</td>\n",
       "    </tr>\n",
       "  </tbody>\n",
       "</table>\n",
       "</div>"
      ],
      "text/plain": [
       "                 count      mean       std       min       25%       50%  \\\n",
       "Actual_Result                                                              \n",
       "0              14682.0  0.807287  0.110820  0.074415  0.740592  0.863236   \n",
       "1              85318.0  0.191357  0.324084  0.000000  0.000000  0.000000   \n",
       "\n",
       "                    75%       max  \n",
       "Actual_Result                      \n",
       "0              0.873152  1.000000  \n",
       "1              0.474797  0.984837  "
      ]
     },
     "execution_count": 26,
     "metadata": {},
     "output_type": "execute_result"
    }
   ],
   "source": [
    "final_df.groupby('Actual_Result')['Probability_Failed'].describe()"
   ]
  },
  {
   "cell_type": "markdown",
   "metadata": {},
   "source": [
    "## 8. CI/CD output"
   ]
  },
  {
   "cell_type": "code",
   "execution_count": 28,
   "metadata": {},
   "outputs": [],
   "source": [
    "from sklearn.metrics import make_scorer, f1_score\n",
    "\n",
    "weighted_f1_scorer = make_scorer(f1_score, average='weighted')\n",
    "\n",
    "final_model_score = f1_score(y_test, pipeline.predict(X_test), average='weighted')\n"
   ]
  },
  {
   "cell_type": "code",
   "execution_count": 29,
   "metadata": {},
   "outputs": [],
   "source": [
    "!touch results.txt\n",
    "!echo f\"weighted_f1_score: {final_model_score}\" >> results.txt"
   ]
  },
  {
   "cell_type": "markdown",
   "metadata": {},
   "source": [
    "## 9. Conclusion - Forseeable Improvements"
   ]
  },
  {
   "cell_type": "markdown",
   "metadata": {},
   "source": [
    "Summary:\n",
    "\n",
    "- Improved Class 0 (Failed Payments) Recall: The weighted model does a much better job of identifying almost all failed payments, which could be critical depending on your business requirements.\n",
    "-\tTrade-Off for Class 1 (Successful Payments): There’s a notable drop in recall for successful payments, meaning the model is more likely to incorrectly predict failures when a payment actually succeeds.\n",
    "\n",
    "Which Version is Better?\n",
    "\n",
    "-\tThe priority is to detect as many failed payments as possible (high recall for class 0), the weighted version is better.\n",
    "-\tIf misclassifying successful payments is more costly (lower recall for class 1 is undesirable), you might want to further tune the model or use a middle-ground approach (e.g., adjusting weights further, trying other models, or resampling the data).\n",
    "\n",
    "The weighted model performs well based on the high AUC ROC score.\n",
    "\n",
    "\n",
    "Improvements:\n",
    "\n",
    " - 1. **Feature Scaling**: If not already done, consider applying feature scaling techniques such as Min-Max Scaling or Standardization to ensure that all features contribute equally to the model's performance.\n",
    "\n",
    "- 2. **Feature Engineering**: Explore creating new features that could provide additional insights, such as:\n",
    "    - Time-based features (e.g., day of the week, month, or hour of the transaction).\n",
    "    - Aggregated features (e.g., rolling averages of transaction amounts).\n",
    " \n",
    "- 3. **Handling Imbalanced Data**: If the dataset is imbalanced, consider techniques such as SMOTE (Synthetic Minority Over-sampling Technique) or ADASYN to generate synthetic samples for the minority class.\n",
    "\n"
   ]
  }
 ],
 "metadata": {
  "kernelspec": {
   "display_name": ".venv",
   "language": "python",
   "name": "python3"
  },
  "language_info": {
   "codemirror_mode": {
    "name": "ipython",
    "version": 3
   },
   "file_extension": ".py",
   "mimetype": "text/x-python",
   "name": "python",
   "nbconvert_exporter": "python",
   "pygments_lexer": "ipython3",
   "version": "3.12.6"
  }
 },
 "nbformat": 4,
 "nbformat_minor": 2
}
